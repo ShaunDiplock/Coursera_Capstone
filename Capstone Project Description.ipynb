{
 "cells": [
  {
   "cell_type": "markdown",
   "metadata": {},
   "source": [
    "# Capstone Project - Evaluating the best Neighborhood in Ontario, Canada to immigrate to"
   ]
  },
  {
   "cell_type": "markdown",
   "metadata": {},
   "source": [
    "## Shaun Diplock - 22nd March 2021"
   ]
  },
  {
   "cell_type": "markdown",
   "metadata": {},
   "source": [
    "## 1. Introduction"
   ]
  },
  {
   "cell_type": "markdown",
   "metadata": {},
   "source": [
    "The problem / challenge addressed in this report and study is a very personal one; the target audience is myself and my future wife and family. Therefore, this 'business problem' is a fairly unconventional one, as I am performing this study for myself as the main stakeholder. I'll attempt to keep personal details and information minimal throughout this report, however as a natural consequence of the subject matter I will occasionally reference items of personal interest.\n",
    "\n",
    "I met my fiance over 5 years ago in Ottawa, Canada, whilst I was working in the area on on a business trip. I live in England, and work as a system development manager and engineer, and frequently have to travel abroad for client site visits and buisness meetings. Our long-distance relationship has developed to the point where we our now engaged, and I am actively trying to immigrate to Canada so we can seriously start our life together. \n",
    "\n",
    "Moving to another country is a daunting prospect, and one that merits time and research into identifying the best area for both of us. Naturally, I am very anxious (but also excited) for what the future holds - this project represents a very real, genuine attempt to evaluate some areas that will maximise the chance of our move and choice being a success.\n",
    "\n",
    "The minimum criteria for us is as follows:\n",
    "\n",
    "1. Within 2 hours of my fiance's parents house (in Kemptville, Ontario, Canada).\n",
    "2. Within 2 hours of an international airport.\n",
    "3. The town / city must contain a Chiropractic clinic, for my fiance's profession (Chiropractor).\n",
    "4. We do not want to live in a major city or busy downtown area.\n",
    "\n",
    "Providing the above minimum criteria are met, towns / cities / neighboorhoods will be ranked using the following attributes:\n",
    "\n",
    "1. The amount of restuarants and bars in the town / city, and their ratings.\n",
    "2. The amount of gyms / fitness studios, and their ratings.\n",
    "3. The amount of outdoor spaces, such as parks and trails.\n",
    "4. The amount of shopping outlets and retail stores.\n",
    "5. The average cost of housing in the area.\n",
    "\n",
    "With the above critieria evaluated we will hopefully be able to identify some suitable areas for us to move to when I immigrate, to maximise the chance of our future life together being happy and successful."
   ]
  },
  {
   "cell_type": "markdown",
   "metadata": {},
   "source": [
    "\n",
    "## 2. Data Acquisition and Preparation\n"
   ]
  },
  {
   "cell_type": "markdown",
   "metadata": {},
   "source": [
    "This problem will be evaluated using Foresquare location data. This data will first be leveraged in order to evaluate the areas, towns, cities and neighborhoods that meet the minimum acceptable criteria. The Foresquare location data will then be used to evaluate our preffered neighborhood attributes.\n",
    "\n",
    "This data can be called to provide lots of meaningful and revelant information - for instance it can be used to examine and cluster the frequency of various amneties in an area, as shown by the following results from a previous and related exercise:\n",
    "\n",
    "![alt text](https://github.com/ShaunDiplock/Coursera_Capstone/blob/main/Neighborhood%20data%20example.PNG?raw=true \"Example clustered neighborhood data\")\n",
    "\n",
    "In addition to the Foresquare data, I will also use the [MLS Home Price Index (HPI)](https://www.crea.ca/housing-market-stats/mls-home-price-index/) data from the [Canadian Real Estate Association](https://www.crea.ca/) website in order to evaluate the average price of housing in each area. This data is available for download using this link: https://www.crea.ca/hpi-tools-terms-of-use/.\n",
    "\n",
    "Ultimately, I will be using all of this data to assign each area a 'weighted score' to help form a list of the best three suitable neighborhoods, with some final discussion about the pros and cons of each area."
   ]
  },
  {
   "cell_type": "markdown",
   "metadata": {},
   "source": []
  }
 ],
 "metadata": {
  "kernelspec": {
   "display_name": "Python 3",
   "language": "python",
   "name": "python3"
  },
  "language_info": {
   "codemirror_mode": {
    "name": "ipython",
    "version": 3
   },
   "file_extension": ".py",
   "mimetype": "text/x-python",
   "name": "python",
   "nbconvert_exporter": "python",
   "pygments_lexer": "ipython3",
   "version": "3.8.5"
  }
 },
 "nbformat": 4,
 "nbformat_minor": 4
}
